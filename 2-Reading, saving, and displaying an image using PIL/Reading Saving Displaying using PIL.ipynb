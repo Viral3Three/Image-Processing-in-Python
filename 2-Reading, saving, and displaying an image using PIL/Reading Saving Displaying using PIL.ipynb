{
 "cells": [
  {
   "cell_type": "markdown",
   "id": "25717746",
   "metadata": {},
   "source": [
    "## Reading, Saving and Displaying an Image using PIL"
   ]
  },
  {
   "cell_type": "code",
   "execution_count": 2,
   "id": "72f20040",
   "metadata": {},
   "outputs": [],
   "source": [
    "# Import the library\n",
    "\n",
    "from PIL import Image\n",
    "\n",
    "im=Image.open(\"Images/parrot.png\") #Path of that image (***Providing the correct path to the images on the disk***)\n",
    "im.show()"
   ]
  },
  {
   "cell_type": "code",
   "execution_count": 3,
   "id": "bf6e69ef",
   "metadata": {},
   "outputs": [
    {
     "name": "stdout",
     "output_type": "stream",
     "text": [
      "Width: 453 Height: 340 Mode: RGB Format: PNG Type: <class 'PIL.PngImagePlugin.PngImageFile'>\n"
     ]
    }
   ],
   "source": [
    "print(\"Width:\",im.width,\"Height:\",im.height,\"Mode:\",im.mode,\"Format:\",im.format,\"Type:\",type(im))"
   ]
  },
  {
   "cell_type": "code",
   "execution_count": 4,
   "id": "3884afe8",
   "metadata": {},
   "outputs": [
    {
     "name": "stdout",
     "output_type": "stream",
     "text": [
      "Width: 453 Height: 340 Mode: RGB Format: PNG Type: <class 'PIL.PngImagePlugin.PngImageFile'>\n"
     ]
    }
   ],
   "source": [
    "# Compenents of that Image\n",
    "print(\"Width:\",im.width,\"Height:\",im.height,\"Mode:\",im.mode,\"Format:\",im.format,\"Type:\",type(im))\n"
   ]
  },
  {
   "cell_type": "code",
   "execution_count": 5,
   "id": "6b31ddc8",
   "metadata": {},
   "outputs": [],
   "source": [
    "# Convert the image and save the image\n",
    "\n",
    "Im_g = im.convert('L')\n",
    "Im_g.save(\"Images/ConvertImage.png\")# Path to save new converted Image\n",
    "Image.open(\"Images/ConvertImage.png\").show()"
   ]
  },
  {
   "cell_type": "markdown",
   "id": "ea0745ff",
   "metadata": {},
   "source": [
    "#Thank You for Watching"
   ]
  },
  {
   "cell_type": "code",
   "execution_count": null,
   "id": "a40fef53",
   "metadata": {},
   "outputs": [],
   "source": []
  }
 ],
 "metadata": {
  "kernelspec": {
   "display_name": "Python 3",
   "language": "python",
   "name": "python3"
  },
  "language_info": {
   "codemirror_mode": {
    "name": "ipython",
    "version": 3
   },
   "file_extension": ".py",
   "mimetype": "text/x-python",
   "name": "python",
   "nbconvert_exporter": "python",
   "pygments_lexer": "ipython3",
   "version": "3.8.8"
  }
 },
 "nbformat": 4,
 "nbformat_minor": 5
}
